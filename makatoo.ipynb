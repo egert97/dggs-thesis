{
 "cells": [
  {
   "cell_type": "code",
   "execution_count": 1,
   "id": "3fa2b9bd-824c-4b91-a5a9-ead512d675a8",
   "metadata": {},
   "outputs": [
    {
     "name": "stdout",
     "output_type": "stream",
     "text": [
      "Successfully processed: C3S-LC-L4-LCCS-Map-300m-P1Y-2016-v2.1.1_cog_clipped_clipped.tif\n",
      "Successfully processed: C3S-LC-L4-LCCS-Map-300m-P1Y-2016-v2.1.1_cog_clipped_clipped_clipped.tif\n",
      "Successfully processed: C3S-LC-L4-LCCS-Map-300m-P1Y-2017-v2.1.1_cog_clipped_clipped.tif\n",
      "Successfully processed: C3S-LC-L4-LCCS-Map-300m-P1Y-2017-v2.1.1_cog_clipped_clipped_clipped.tif\n",
      "Successfully processed: C3S-LC-L4-LCCS-Map-300m-P1Y-2018-v2.1.1_cog_clipped_clipped.tif\n",
      "Successfully processed: C3S-LC-L4-LCCS-Map-300m-P1Y-2018-v2.1.1_cog_clipped_clipped_clipped.tif\n",
      "Successfully processed: C3S-LC-L4-LCCS-Map-300m-P1Y-2019-v2.1.1_cog_clipped_clipped.tif\n",
      "Successfully processed: C3S-LC-L4-LCCS-Map-300m-P1Y-2019-v2.1.1_cog_clipped_clipped_clipped.tif\n",
      "Successfully processed: ESACCI-LC-L4-LCCS-Map-300m-P1Y-1992-v2.0.7_cog_clipped_clipped.tif\n",
      "Successfully processed: ESACCI-LC-L4-LCCS-Map-300m-P1Y-1992-v2.0.7_cog_clipped_clipped_clipped.tif\n",
      "Successfully processed: ESACCI-LC-L4-LCCS-Map-300m-P1Y-1993-v2.0.7_cog_clipped_clipped.tif\n",
      "Successfully processed: ESACCI-LC-L4-LCCS-Map-300m-P1Y-1993-v2.0.7_cog_clipped_clipped_clipped.tif\n",
      "Successfully processed: ESACCI-LC-L4-LCCS-Map-300m-P1Y-1994-v2.0.7_cog_clipped_clipped.tif\n",
      "Successfully processed: ESACCI-LC-L4-LCCS-Map-300m-P1Y-1994-v2.0.7_cog_clipped_clipped_clipped.tif\n",
      "Successfully processed: ESACCI-LC-L4-LCCS-Map-300m-P1Y-1995-v2.0.7_cog_clipped_clipped.tif\n",
      "Successfully processed: ESACCI-LC-L4-LCCS-Map-300m-P1Y-1995-v2.0.7_cog_clipped_clipped_clipped.tif\n",
      "Successfully processed: ESACCI-LC-L4-LCCS-Map-300m-P1Y-1996-v2.0.7_cog_clipped_clipped.tif\n",
      "Successfully processed: ESACCI-LC-L4-LCCS-Map-300m-P1Y-1996-v2.0.7_cog_clipped_clipped_clipped.tif\n",
      "Successfully processed: ESACCI-LC-L4-LCCS-Map-300m-P1Y-1997-v2.0.7_cog_clipped_clipped.tif\n",
      "Successfully processed: ESACCI-LC-L4-LCCS-Map-300m-P1Y-1997-v2.0.7_cog_clipped_clipped_clipped.tif\n",
      "Successfully processed: ESACCI-LC-L4-LCCS-Map-300m-P1Y-1998-v2.0.7_cog_clipped_clipped.tif\n",
      "Successfully processed: ESACCI-LC-L4-LCCS-Map-300m-P1Y-1998-v2.0.7_cog_clipped_clipped_clipped.tif\n",
      "Successfully processed: ESACCI-LC-L4-LCCS-Map-300m-P1Y-1999-v2.0.7_cog_clipped_clipped.tif\n",
      "Successfully processed: ESACCI-LC-L4-LCCS-Map-300m-P1Y-1999-v2.0.7_cog_clipped_clipped_clipped.tif\n",
      "Successfully processed: ESACCI-LC-L4-LCCS-Map-300m-P1Y-2000-v2.0.7_cog_clipped_clipped.tif\n",
      "Successfully processed: ESACCI-LC-L4-LCCS-Map-300m-P1Y-2000-v2.0.7_cog_clipped_clipped_clipped.tif\n",
      "Successfully processed: ESACCI-LC-L4-LCCS-Map-300m-P1Y-2001-v2.0.7_cog_clipped_clipped.tif\n",
      "Successfully processed: ESACCI-LC-L4-LCCS-Map-300m-P1Y-2001-v2.0.7_cog_clipped_clipped_clipped.tif\n",
      "Successfully processed: ESACCI-LC-L4-LCCS-Map-300m-P1Y-2002-v2.0.7_cog_clipped_clipped.tif\n",
      "Successfully processed: ESACCI-LC-L4-LCCS-Map-300m-P1Y-2002-v2.0.7_cog_clipped_clipped_clipped.tif\n",
      "Successfully processed: ESACCI-LC-L4-LCCS-Map-300m-P1Y-2003-v2.0.7_cog_clipped_clipped.tif\n",
      "Successfully processed: ESACCI-LC-L4-LCCS-Map-300m-P1Y-2003-v2.0.7_cog_clipped_clipped_clipped.tif\n",
      "Successfully processed: ESACCI-LC-L4-LCCS-Map-300m-P1Y-2004-v2.0.7_cog_clipped_clipped.tif\n",
      "Successfully processed: ESACCI-LC-L4-LCCS-Map-300m-P1Y-2004-v2.0.7_cog_clipped_clipped_clipped.tif\n",
      "Successfully processed: ESACCI-LC-L4-LCCS-Map-300m-P1Y-2005-v2.0.7_cog_clipped_clipped.tif\n",
      "Successfully processed: ESACCI-LC-L4-LCCS-Map-300m-P1Y-2005-v2.0.7_cog_clipped_clipped_clipped.tif\n",
      "Successfully processed: ESACCI-LC-L4-LCCS-Map-300m-P1Y-2006-v2.0.7_cog_clipped_clipped.tif\n",
      "Successfully processed: ESACCI-LC-L4-LCCS-Map-300m-P1Y-2006-v2.0.7_cog_clipped_clipped_clipped.tif\n",
      "Successfully processed: ESACCI-LC-L4-LCCS-Map-300m-P1Y-2007-v2.0.7_cog_clipped_clipped.tif\n",
      "Successfully processed: ESACCI-LC-L4-LCCS-Map-300m-P1Y-2007-v2.0.7_cog_clipped_clipped_clipped.tif\n",
      "Successfully processed: ESACCI-LC-L4-LCCS-Map-300m-P1Y-2008-v2.0.7_cog_clipped_clipped.tif\n",
      "Successfully processed: ESACCI-LC-L4-LCCS-Map-300m-P1Y-2008-v2.0.7_cog_clipped_clipped_clipped.tif\n",
      "Successfully processed: ESACCI-LC-L4-LCCS-Map-300m-P1Y-2009-v2.0.7_cog_clipped_clipped.tif\n",
      "Successfully processed: ESACCI-LC-L4-LCCS-Map-300m-P1Y-2009-v2.0.7_cog_clipped_clipped_clipped.tif\n",
      "Successfully processed: ESACCI-LC-L4-LCCS-Map-300m-P1Y-2010-v2.0.7_cog_clipped_clipped.tif\n",
      "Successfully processed: ESACCI-LC-L4-LCCS-Map-300m-P1Y-2010-v2.0.7_cog_clipped_clipped_clipped.tif\n",
      "Successfully processed: ESACCI-LC-L4-LCCS-Map-300m-P1Y-2011-v2.0.7_cog_clipped_clipped.tif\n",
      "Successfully processed: ESACCI-LC-L4-LCCS-Map-300m-P1Y-2011-v2.0.7_cog_clipped_clipped_clipped.tif\n",
      "Successfully processed: ESACCI-LC-L4-LCCS-Map-300m-P1Y-2012-v2.0.7_cog_clipped_clipped.tif\n",
      "Successfully processed: ESACCI-LC-L4-LCCS-Map-300m-P1Y-2012-v2.0.7_cog_clipped_clipped_clipped.tif\n",
      "Successfully processed: ESACCI-LC-L4-LCCS-Map-300m-P1Y-2013-v2.0.7_cog_clipped_clipped.tif\n",
      "Successfully processed: ESACCI-LC-L4-LCCS-Map-300m-P1Y-2013-v2.0.7_cog_clipped_clipped_clipped.tif\n",
      "Successfully processed: ESACCI-LC-L4-LCCS-Map-300m-P1Y-2014-v2.0.7_cog_clipped_clipped.tif\n",
      "Successfully processed: ESACCI-LC-L4-LCCS-Map-300m-P1Y-2014-v2.0.7_cog_clipped_clipped_clipped.tif\n",
      "Successfully processed: ESACCI-LC-L4-LCCS-Map-300m-P1Y-2015-v2.0.7_cog_clipped_clipped.tif\n",
      "Successfully processed: ESACCI-LC-L4-LCCS-Map-300m-P1Y-2015-v2.0.7_cog_clipped_clipped_clipped.tif\n"
     ]
    }
   ],
   "source": [
    "# Clipping ESA land use data to Estonia\n",
    "# For me personally this part is no longer important, because I chose to store the (clipped) files locally. But in case I need to explain how I got the result, it might be useful to keep this part as well\n",
    "\n",
    "import os\n",
    "import rasterio\n",
    "from rasterio.mask import mask\n",
    "from shapely.geometry import box\n",
    "\n",
    "# Path to the local directory containing GeoTIFF files\n",
    "\n",
    "local_tif_directory = 'C:/Users/egert/dggs_t1-master/ESA_data'\n",
    "\n",
    "# I used the file list you provided in your working notes to get the maps. But it seems like either ESA or Google changed something, so making a list and then looping through it no longer works\n",
    "# My best guess is that ESA made these files more difficult to access (on their website it now asks for verification and data such as name, organisation and email)\n",
    "# Fortunately I have stored these files locally and they are also uploaded to GitHub. It might only make replicating more difficult\n",
    "\n",
    "# Define the bounding box coordinates for Estonia\n",
    "minx, miny, maxx, maxy = 21.8375, 57.5246, 28.1945, 59.6750\n",
    "\n",
    "# Create a shapely geometry using the bounding box coordinates\n",
    "bbox = box(minx, miny, maxx, maxy)\n",
    "\n",
    "# Loop through each GeoTIFF file in the local directory\n",
    "for filename in os.listdir(local_tif_directory):\n",
    "    if filename.endswith('.tif'):\n",
    "        tif_path = os.path.join(local_tif_directory, filename)\n",
    "        \n",
    "        try:\n",
    "            # Open the GeoTIFF file from the local path\n",
    "            with rasterio.open(tif_path) as src:\n",
    "                # Clip the raster to the bounding box geometry\n",
    "                clipped_data, clipped_transform = mask(dataset=src, shapes=[bbox], crop=True)\n",
    "\n",
    "                # Update the metadata (e.g., transform, width, height)\n",
    "                clipped_meta = src.meta.copy()\n",
    "                clipped_meta.update({\n",
    "                    \"driver\": \"GTiff\",\n",
    "                    \"height\": clipped_data.shape[1],\n",
    "                    \"width\": clipped_data.shape[2],\n",
    "                    \"transform\": clipped_transform\n",
    "                })\n",
    "\n",
    "                # Define the output filename\n",
    "                output_filename = f'{os.path.splitext(filename)[0]}_clipped.tif'\n",
    "                output_path = os.path.join(local_tif_directory, output_filename)\n",
    "\n",
    "                # Write the clipped data to a new GeoTIFF file\n",
    "                with rasterio.open(output_path, 'w', **clipped_meta) as dst:\n",
    "                    dst.write(clipped_data)\n",
    "                    \n",
    "            # If the processing succeeds, print it with the file name\n",
    "            print(f'Successfully processed: {output_filename}')\n",
    "            \n",
    "        # If the processing fails, print out the path and the error code\n",
    "        except rasterio.errors.RasterioIOError as e:\n",
    "            print(f'Error processing {tif_path}: {e}')\n"
   ]
  },
  {
   "cell_type": "code",
   "execution_count": 5,
   "id": "cf2363ef-7870-4d95-a167-ffaea471e31c",
   "metadata": {},
   "outputs": [
    {
     "name": "stdout",
     "output_type": "stream",
     "text": [
      "** executing DGGRID version 7.8 **\n",
      "type sizes: big int: 64 bits / big double: 64 bits\n",
      "\n",
      "** loading meta file metafile_fa5b82ae-5b62-4e86-955c-26b5eb17ffb6...\n",
      "* using parameter values:\n",
      "dggrid_operation GENERATE_GRID (user set)\n",
      "dggs_type ISEA7H (user set)\n",
      "dggs_topology HEXAGON (user set)\n",
      "dggs_proj ISEA (user set)\n",
      "dggs_aperture_type PURE (user set)\n",
      "dggs_aperture 7 (user set)\n",
      "proj_datum WGS84_AUTHALIC_SPHERE (default)\n",
      "dggs_orient_specify_type SPECIFIED (user set)\n",
      "dggs_num_placements 1 (user set)\n",
      "dggs_orient_output_file_name grid.meta (default)\n",
      "dggs_vert0_lon 11.25 (user set)\n",
      "dggs_vert0_lat 58.2825 (user set)\n",
      "dggs_vert0_azimuth 0 (user set)\n",
      "dggs_res_specify_type SPECIFIED (user set)\n",
      "dggs_res_spec 5 (user set)\n",
      "rng_type RAND (default)\n",
      "geodetic_densify 0 (default)\n",
      "clip_subset_type GDAL (user set)\n",
      "clip_cell_addresses  (default)\n",
      "clip_cell_res 1 (default)\n",
      "clip_cell_densification 1 (default)\n",
      "clip_region_files C:\\Users\\egert\\dggs_t1-master\\temp_clip_32c5a14c-3cdb-41be-ace7-44a2c50b54f4.geojson (user set)\n",
      "clip_type POLY_INTERSECT (default)\n",
      "clipper_scale_factor 1000000 (default)\n",
      "densification 0 (default)\n",
      "longitude_wrap_mode WRAP (default)\n",
      "unwrap_points true (default)\n",
      "precision 7 (default)\n",
      "output_cell_label_type GLOBAL_SEQUENCE (default)\n",
      "cell_output_type GDAL (user set)\n",
      "point_output_type NONE (default)\n",
      "randpts_output_type NONE (default)\n",
      "cell_output_gdal_format GeoJSON (user set)\n",
      "point_output_gdal_format GeoJSON (default)\n",
      "collection_output_gdal_format GeoJSON (default)\n",
      "clip_using_holes false (default)\n",
      "cell_output_file_name C:\\Users\\egert\\dggs_t1-master\\temp_ISEA7H_5_out_32c5a14c-3cdb-41be-ace7-44a2c50b54f4.geojson (user set)\n",
      "point_output_file_name centers (default)\n",
      "randpts_output_file_name randPts (default)\n",
      "collection_output_file_name cells (default)\n",
      "shapefile_id_field_length 11 (default)\n",
      "kml_default_width 4 (default)\n",
      "kml_default_color ffffffff (default)\n",
      "kml_name  (default)\n",
      "kml_description Generated by DGGRID 7.8 (default)\n",
      "neighbor_output_type NONE (default)\n",
      "neighbor_output_file_name nbr (default)\n",
      "children_output_type NONE (default)\n",
      "children_output_file_name chld (default)\n",
      "update_frequency 100000 (default)\n",
      "max_cells_per_output_file 0 (default)\n",
      "output_first_seqnum 1 (default)\n",
      "output_last_seqnum 4294967295 (default)\n",
      "verbosity 0 (default)\n",
      "pause_on_startup false (default)\n",
      "pause_before_exit false (default)\n",
      "input_delimiter \" \" (default)\n",
      "output_address_type SEQNUM (default)\n",
      "output_delimiter \" \" (default)\n",
      "input_address_type SEQNUM (default)\n",
      "\n",
      "Registering GDAL drivers...\n",
      "\n",
      "* building clipping regions...\n",
      "\n",
      "* No intersections in quad 0.\n",
      "* No intersections in quad 1.\n",
      "* No intersections in quad 2.\n",
      "* No intersections in quad 3.\n",
      "* Testing quad 4...\n",
      "...quad 4 complete.\n",
      "* Testing quad 5...\n",
      "...quad 5 complete.\n",
      "* No intersections in quad 6.\n",
      "* No intersections in quad 7.\n",
      "* No intersections in quad 8.\n",
      "* No intersections in quad 9.\n",
      "* No intersections in quad 10.\n",
      "* No intersections in quad 11.\n",
      "\n",
      "** grid generation complete **\n",
      "accepted 43 cells / 60 tested\n",
      "acceptance rate is 71.6667%\n",
      "\n"
     ]
    },
    {
     "name": "stderr",
     "output_type": "stream",
     "text": [
      "C:\\Users\\egert\\AppData\\Local\\Temp\\ipykernel_20972\\2187059024.py:55: UserWarning: Column names longer than 10 characters will be truncated when saved to ESRI Shapefile.\n",
      "  gdf_dggs.to_file(output_file)\n"
     ]
    },
    {
     "name": "stdout",
     "output_type": "stream",
     "text": [
      "Saved C:\\Users\\egert\\dggs_t1-master\\zonal_stats\\ISEA7H_5_landuse_cog.shp\n"
     ]
    },
    {
     "name": "stderr",
     "output_type": "stream",
     "text": [
      "C:\\Users\\egert\\AppData\\Local\\Temp\\ipykernel_20972\\2187059024.py:55: UserWarning: Column names longer than 10 characters will be truncated when saved to ESRI Shapefile.\n",
      "  gdf_dggs.to_file(output_file)\n"
     ]
    },
    {
     "name": "stdout",
     "output_type": "stream",
     "text": [
      "Saved C:\\Users\\egert\\dggs_t1-master\\zonal_stats\\ISEA7H_5_landuse_cog.shp\n"
     ]
    },
    {
     "name": "stderr",
     "output_type": "stream",
     "text": [
      "C:\\Users\\egert\\AppData\\Local\\Temp\\ipykernel_20972\\2187059024.py:55: UserWarning: Column names longer than 10 characters will be truncated when saved to ESRI Shapefile.\n",
      "  gdf_dggs.to_file(output_file)\n"
     ]
    },
    {
     "name": "stdout",
     "output_type": "stream",
     "text": [
      "Saved C:\\Users\\egert\\dggs_t1-master\\zonal_stats\\ISEA7H_5_landuse_cog.shp\n",
      "Saved C:\\Users\\egert\\dggs_t1-master\\zonal_stats\\ISEA7H_5_landuse_cog.shp\n"
     ]
    },
    {
     "name": "stderr",
     "output_type": "stream",
     "text": [
      "C:\\Users\\egert\\AppData\\Local\\Temp\\ipykernel_20972\\2187059024.py:55: UserWarning: Column names longer than 10 characters will be truncated when saved to ESRI Shapefile.\n",
      "  gdf_dggs.to_file(output_file)\n",
      "C:\\Users\\egert\\AppData\\Local\\Temp\\ipykernel_20972\\2187059024.py:55: UserWarning: Column names longer than 10 characters will be truncated when saved to ESRI Shapefile.\n",
      "  gdf_dggs.to_file(output_file)\n",
      "C:\\Users\\egert\\AppData\\Local\\Temp\\ipykernel_20972\\2187059024.py:55: UserWarning: Column names longer than 10 characters will be truncated when saved to ESRI Shapefile.\n",
      "  gdf_dggs.to_file(output_file)\n"
     ]
    },
    {
     "name": "stdout",
     "output_type": "stream",
     "text": [
      "Saved C:\\Users\\egert\\dggs_t1-master\\zonal_stats\\ISEA7H_5_landuse_cog.shp\n",
      "Saved C:\\Users\\egert\\dggs_t1-master\\zonal_stats\\ISEA7H_5_landuse_cog.shp\n"
     ]
    },
    {
     "name": "stderr",
     "output_type": "stream",
     "text": [
      "C:\\Users\\egert\\AppData\\Local\\Temp\\ipykernel_20972\\2187059024.py:55: UserWarning: Column names longer than 10 characters will be truncated when saved to ESRI Shapefile.\n",
      "  gdf_dggs.to_file(output_file)\n"
     ]
    },
    {
     "name": "stdout",
     "output_type": "stream",
     "text": [
      "Saved C:\\Users\\egert\\dggs_t1-master\\zonal_stats\\ISEA7H_5_landuse_cog.shp\n"
     ]
    },
    {
     "name": "stderr",
     "output_type": "stream",
     "text": [
      "C:\\Users\\egert\\AppData\\Local\\Temp\\ipykernel_20972\\2187059024.py:55: UserWarning: Column names longer than 10 characters will be truncated when saved to ESRI Shapefile.\n",
      "  gdf_dggs.to_file(output_file)\n"
     ]
    },
    {
     "name": "stdout",
     "output_type": "stream",
     "text": [
      "Saved C:\\Users\\egert\\dggs_t1-master\\zonal_stats\\ISEA7H_5_landuse_cog.shp\n"
     ]
    },
    {
     "name": "stderr",
     "output_type": "stream",
     "text": [
      "C:\\Users\\egert\\AppData\\Local\\Temp\\ipykernel_20972\\2187059024.py:55: UserWarning: Column names longer than 10 characters will be truncated when saved to ESRI Shapefile.\n",
      "  gdf_dggs.to_file(output_file)\n",
      "C:\\Users\\egert\\AppData\\Local\\Temp\\ipykernel_20972\\2187059024.py:55: UserWarning: Column names longer than 10 characters will be truncated when saved to ESRI Shapefile.\n",
      "  gdf_dggs.to_file(output_file)\n"
     ]
    },
    {
     "name": "stdout",
     "output_type": "stream",
     "text": [
      "Saved C:\\Users\\egert\\dggs_t1-master\\zonal_stats\\ISEA7H_5_landuse_cog.shp\n",
      "Saved C:\\Users\\egert\\dggs_t1-master\\zonal_stats\\ISEA7H_5_landuse_cog.shp\n"
     ]
    },
    {
     "name": "stderr",
     "output_type": "stream",
     "text": [
      "C:\\Users\\egert\\AppData\\Local\\Temp\\ipykernel_20972\\2187059024.py:55: UserWarning: Column names longer than 10 characters will be truncated when saved to ESRI Shapefile.\n",
      "  gdf_dggs.to_file(output_file)\n"
     ]
    },
    {
     "name": "stdout",
     "output_type": "stream",
     "text": [
      "Saved C:\\Users\\egert\\dggs_t1-master\\zonal_stats\\ISEA7H_5_landuse_cog.shp\n"
     ]
    },
    {
     "name": "stderr",
     "output_type": "stream",
     "text": [
      "C:\\Users\\egert\\AppData\\Local\\Temp\\ipykernel_20972\\2187059024.py:55: UserWarning: Column names longer than 10 characters will be truncated when saved to ESRI Shapefile.\n",
      "  gdf_dggs.to_file(output_file)\n"
     ]
    },
    {
     "name": "stdout",
     "output_type": "stream",
     "text": [
      "Saved C:\\Users\\egert\\dggs_t1-master\\zonal_stats\\ISEA7H_5_landuse_cog.shp\n"
     ]
    },
    {
     "name": "stderr",
     "output_type": "stream",
     "text": [
      "C:\\Users\\egert\\AppData\\Local\\Temp\\ipykernel_20972\\2187059024.py:55: UserWarning: Column names longer than 10 characters will be truncated when saved to ESRI Shapefile.\n",
      "  gdf_dggs.to_file(output_file)\n",
      "C:\\Users\\egert\\AppData\\Local\\Temp\\ipykernel_20972\\2187059024.py:55: UserWarning: Column names longer than 10 characters will be truncated when saved to ESRI Shapefile.\n",
      "  gdf_dggs.to_file(output_file)\n"
     ]
    },
    {
     "name": "stdout",
     "output_type": "stream",
     "text": [
      "Saved C:\\Users\\egert\\dggs_t1-master\\zonal_stats\\ISEA7H_5_landuse_cog.shp\n",
      "Saved C:\\Users\\egert\\dggs_t1-master\\zonal_stats\\ISEA7H_5_landuse_cog.shp\n"
     ]
    },
    {
     "name": "stderr",
     "output_type": "stream",
     "text": [
      "C:\\Users\\egert\\AppData\\Local\\Temp\\ipykernel_20972\\2187059024.py:55: UserWarning: Column names longer than 10 characters will be truncated when saved to ESRI Shapefile.\n",
      "  gdf_dggs.to_file(output_file)\n",
      "C:\\Users\\egert\\AppData\\Local\\Temp\\ipykernel_20972\\2187059024.py:55: UserWarning: Column names longer than 10 characters will be truncated when saved to ESRI Shapefile.\n",
      "  gdf_dggs.to_file(output_file)\n"
     ]
    },
    {
     "name": "stdout",
     "output_type": "stream",
     "text": [
      "Saved C:\\Users\\egert\\dggs_t1-master\\zonal_stats\\ISEA7H_5_landuse_cog.shp\n",
      "Saved C:\\Users\\egert\\dggs_t1-master\\zonal_stats\\ISEA7H_5_landuse_cog.shp\n"
     ]
    },
    {
     "name": "stderr",
     "output_type": "stream",
     "text": [
      "C:\\Users\\egert\\AppData\\Local\\Temp\\ipykernel_20972\\2187059024.py:55: UserWarning: Column names longer than 10 characters will be truncated when saved to ESRI Shapefile.\n",
      "  gdf_dggs.to_file(output_file)\n",
      "C:\\Users\\egert\\AppData\\Local\\Temp\\ipykernel_20972\\2187059024.py:55: UserWarning: Column names longer than 10 characters will be truncated when saved to ESRI Shapefile.\n",
      "  gdf_dggs.to_file(output_file)\n"
     ]
    },
    {
     "name": "stdout",
     "output_type": "stream",
     "text": [
      "Saved C:\\Users\\egert\\dggs_t1-master\\zonal_stats\\ISEA7H_5_landuse_cog.shp\n",
      "Saved C:\\Users\\egert\\dggs_t1-master\\zonal_stats\\ISEA7H_5_landuse_cog.shp\n"
     ]
    },
    {
     "name": "stderr",
     "output_type": "stream",
     "text": [
      "C:\\Users\\egert\\AppData\\Local\\Temp\\ipykernel_20972\\2187059024.py:55: UserWarning: Column names longer than 10 characters will be truncated when saved to ESRI Shapefile.\n",
      "  gdf_dggs.to_file(output_file)\n"
     ]
    },
    {
     "name": "stdout",
     "output_type": "stream",
     "text": [
      "Saved C:\\Users\\egert\\dggs_t1-master\\zonal_stats\\ISEA7H_5_landuse_cog.shp\n"
     ]
    },
    {
     "name": "stderr",
     "output_type": "stream",
     "text": [
      "C:\\Users\\egert\\AppData\\Local\\Temp\\ipykernel_20972\\2187059024.py:55: UserWarning: Column names longer than 10 characters will be truncated when saved to ESRI Shapefile.\n",
      "  gdf_dggs.to_file(output_file)\n",
      "C:\\Users\\egert\\AppData\\Local\\Temp\\ipykernel_20972\\2187059024.py:55: UserWarning: Column names longer than 10 characters will be truncated when saved to ESRI Shapefile.\n",
      "  gdf_dggs.to_file(output_file)\n"
     ]
    },
    {
     "name": "stdout",
     "output_type": "stream",
     "text": [
      "Saved C:\\Users\\egert\\dggs_t1-master\\zonal_stats\\ISEA7H_5_landuse_cog.shp\n",
      "Saved C:\\Users\\egert\\dggs_t1-master\\zonal_stats\\ISEA7H_5_landuse_cog.shp\n"
     ]
    },
    {
     "name": "stderr",
     "output_type": "stream",
     "text": [
      "C:\\Users\\egert\\AppData\\Local\\Temp\\ipykernel_20972\\2187059024.py:55: UserWarning: Column names longer than 10 characters will be truncated when saved to ESRI Shapefile.\n",
      "  gdf_dggs.to_file(output_file)\n",
      "C:\\Users\\egert\\AppData\\Local\\Temp\\ipykernel_20972\\2187059024.py:55: UserWarning: Column names longer than 10 characters will be truncated when saved to ESRI Shapefile.\n",
      "  gdf_dggs.to_file(output_file)\n"
     ]
    },
    {
     "name": "stdout",
     "output_type": "stream",
     "text": [
      "Saved C:\\Users\\egert\\dggs_t1-master\\zonal_stats\\ISEA7H_5_landuse_cog.shp\n",
      "Saved C:\\Users\\egert\\dggs_t1-master\\zonal_stats\\ISEA7H_5_landuse_cog.shp\n"
     ]
    },
    {
     "name": "stderr",
     "output_type": "stream",
     "text": [
      "C:\\Users\\egert\\AppData\\Local\\Temp\\ipykernel_20972\\2187059024.py:55: UserWarning: Column names longer than 10 characters will be truncated when saved to ESRI Shapefile.\n",
      "  gdf_dggs.to_file(output_file)\n",
      "C:\\Users\\egert\\AppData\\Local\\Temp\\ipykernel_20972\\2187059024.py:55: UserWarning: Column names longer than 10 characters will be truncated when saved to ESRI Shapefile.\n",
      "  gdf_dggs.to_file(output_file)\n"
     ]
    },
    {
     "name": "stdout",
     "output_type": "stream",
     "text": [
      "Saved C:\\Users\\egert\\dggs_t1-master\\zonal_stats\\ISEA7H_5_landuse_cog.shp\n",
      "Saved C:\\Users\\egert\\dggs_t1-master\\zonal_stats\\ISEA7H_5_landuse_cog.shp\n"
     ]
    },
    {
     "name": "stderr",
     "output_type": "stream",
     "text": [
      "C:\\Users\\egert\\AppData\\Local\\Temp\\ipykernel_20972\\2187059024.py:55: UserWarning: Column names longer than 10 characters will be truncated when saved to ESRI Shapefile.\n",
      "  gdf_dggs.to_file(output_file)\n",
      "C:\\Users\\egert\\AppData\\Local\\Temp\\ipykernel_20972\\2187059024.py:55: UserWarning: Column names longer than 10 characters will be truncated when saved to ESRI Shapefile.\n",
      "  gdf_dggs.to_file(output_file)\n"
     ]
    },
    {
     "name": "stdout",
     "output_type": "stream",
     "text": [
      "Saved C:\\Users\\egert\\dggs_t1-master\\zonal_stats\\ISEA7H_5_landuse_cog.shp\n",
      "Saved C:\\Users\\egert\\dggs_t1-master\\zonal_stats\\ISEA7H_5_landuse_cog.shp\n",
      "Saved C:\\Users\\egert\\dggs_t1-master\\zonal_stats\\ISEA7H_5_landuse_cog.shp\n"
     ]
    },
    {
     "name": "stderr",
     "output_type": "stream",
     "text": [
      "C:\\Users\\egert\\AppData\\Local\\Temp\\ipykernel_20972\\2187059024.py:55: UserWarning: Column names longer than 10 characters will be truncated when saved to ESRI Shapefile.\n",
      "  gdf_dggs.to_file(output_file)\n"
     ]
    },
    {
     "ename": "ValueError",
     "evalue": "x attribute access only provided for Point geometries",
     "output_type": "error",
     "traceback": [
      "\u001b[1;31m---------------------------------------------------------------------------\u001b[0m",
      "\u001b[1;31mValueError\u001b[0m                                Traceback (most recent call last)",
      "Cell \u001b[1;32mIn[5], line 59\u001b[0m\n\u001b[0;32m     56\u001b[0m     \u001b[38;5;28mprint\u001b[39m(\u001b[38;5;124mf\u001b[39m\u001b[38;5;124m'\u001b[39m\u001b[38;5;124mSaved \u001b[39m\u001b[38;5;132;01m{\u001b[39;00moutput_file\u001b[38;5;132;01m}\u001b[39;00m\u001b[38;5;124m'\u001b[39m)\n\u001b[0;32m     58\u001b[0m \u001b[38;5;66;03m# Create hexagonal points for querying land use at smaller scale\u001b[39;00m\n\u001b[1;32m---> 59\u001b[0m gdf_points \u001b[38;5;241m=\u001b[39m \u001b[43mdggrid_instance\u001b[49m\u001b[38;5;241;43m.\u001b[39;49m\u001b[43mcells_for_geo_points\u001b[49m\u001b[43m(\u001b[49m\u001b[43mgdf_dggs\u001b[49m\u001b[43m,\u001b[49m\u001b[43m \u001b[49m\u001b[38;5;28;43;01mFalse\u001b[39;49;00m\u001b[43m,\u001b[49m\u001b[43m \u001b[49m\u001b[43mdggs_type\u001b[49m\u001b[43m,\u001b[49m\u001b[43m \u001b[49m\u001b[43mresolution\u001b[49m\u001b[43m \u001b[49m\u001b[38;5;241;43m+\u001b[39;49m\u001b[43m \u001b[49m\u001b[38;5;241;43m2\u001b[39;49m\u001b[43m)\u001b[49m  \u001b[38;5;66;03m# Smaller resolution\u001b[39;00m\n\u001b[0;32m     61\u001b[0m \u001b[38;5;66;03m# Query land use at each point for each year\u001b[39;00m\n\u001b[0;32m     62\u001b[0m \u001b[38;5;28;01mfor\u001b[39;00m raster_path \u001b[38;5;129;01min\u001b[39;00m landuse_rasters:\n",
      "File \u001b[1;32mC:\\ProgramData\\miniconda3\\envs\\dggs_t1\\Lib\\site-packages\\dggrid4py\\dggrid_runner.py:1044\u001b[0m, in \u001b[0;36mDGGRIDv7.cells_for_geo_points\u001b[1;34m(self, geodf_points_wgs84, cell_ids_only, dggs_type, resolution, mixed_aperture_level, split_dateline)\u001b[0m\n\u001b[0;32m   1042\u001b[0m cols \u001b[38;5;241m=\u001b[39m \u001b[38;5;28mset\u001b[39m(geodf_points_wgs84\u001b[38;5;241m.\u001b[39mcolumns\u001b[38;5;241m.\u001b[39mtolist())\n\u001b[0;32m   1043\u001b[0m cols \u001b[38;5;241m=\u001b[39m cols \u001b[38;5;241m-\u001b[39m \u001b[38;5;28mset\u001b[39m(\u001b[38;5;124m'\u001b[39m\u001b[38;5;124mgeometry\u001b[39m\u001b[38;5;124m'\u001b[39m)\n\u001b[1;32m-> 1044\u001b[0m geodf_points_wgs84[\u001b[38;5;124m'\u001b[39m\u001b[38;5;124mlon\u001b[39m\u001b[38;5;124m'\u001b[39m] \u001b[38;5;241m=\u001b[39m \u001b[43mgeodf_points_wgs84\u001b[49m\u001b[43m[\u001b[49m\u001b[38;5;124;43m'\u001b[39;49m\u001b[38;5;124;43mgeometry\u001b[39;49m\u001b[38;5;124;43m'\u001b[39;49m\u001b[43m]\u001b[49m\u001b[38;5;241;43m.\u001b[39;49m\u001b[43mx\u001b[49m\n\u001b[0;32m   1045\u001b[0m geodf_points_wgs84[\u001b[38;5;124m'\u001b[39m\u001b[38;5;124mlat\u001b[39m\u001b[38;5;124m'\u001b[39m] \u001b[38;5;241m=\u001b[39m geodf_points_wgs84[\u001b[38;5;124m'\u001b[39m\u001b[38;5;124mgeometry\u001b[39m\u001b[38;5;124m'\u001b[39m]\u001b[38;5;241m.\u001b[39my\n\u001b[0;32m   1046\u001b[0m cols_ordered \u001b[38;5;241m=\u001b[39m [\u001b[38;5;124m'\u001b[39m\u001b[38;5;124mlon\u001b[39m\u001b[38;5;124m'\u001b[39m, \u001b[38;5;124m'\u001b[39m\u001b[38;5;124mlat\u001b[39m\u001b[38;5;124m'\u001b[39m]\n",
      "File \u001b[1;32mC:\\ProgramData\\miniconda3\\envs\\dggs_t1\\Lib\\site-packages\\geopandas\\geoseries.py:267\u001b[0m, in \u001b[0;36mGeoSeries.x\u001b[1;34m(self)\u001b[0m\n\u001b[0;32m    241\u001b[0m \u001b[38;5;129m@property\u001b[39m\n\u001b[0;32m    242\u001b[0m \u001b[38;5;28;01mdef\u001b[39;00m \u001b[38;5;21mx\u001b[39m(\u001b[38;5;28mself\u001b[39m):\n\u001b[0;32m    243\u001b[0m \u001b[38;5;250m    \u001b[39m\u001b[38;5;124;03m\"\"\"Return the x location of point geometries in a GeoSeries\u001b[39;00m\n\u001b[0;32m    244\u001b[0m \n\u001b[0;32m    245\u001b[0m \u001b[38;5;124;03m    Returns\u001b[39;00m\n\u001b[1;32m   (...)\u001b[0m\n\u001b[0;32m    265\u001b[0m \n\u001b[0;32m    266\u001b[0m \u001b[38;5;124;03m    \"\"\"\u001b[39;00m\n\u001b[1;32m--> 267\u001b[0m     \u001b[38;5;28;01mreturn\u001b[39;00m \u001b[43m_delegate_property\u001b[49m\u001b[43m(\u001b[49m\u001b[38;5;124;43m\"\u001b[39;49m\u001b[38;5;124;43mx\u001b[39;49m\u001b[38;5;124;43m\"\u001b[39;49m\u001b[43m,\u001b[49m\u001b[43m \u001b[49m\u001b[38;5;28;43mself\u001b[39;49m\u001b[43m)\u001b[49m\n",
      "File \u001b[1;32mC:\\ProgramData\\miniconda3\\envs\\dggs_t1\\Lib\\site-packages\\geopandas\\base.py:66\u001b[0m, in \u001b[0;36m_delegate_property\u001b[1;34m(op, this)\u001b[0m\n\u001b[0;32m     63\u001b[0m \u001b[38;5;28;01mdef\u001b[39;00m \u001b[38;5;21m_delegate_property\u001b[39m(op, this):\n\u001b[0;32m     64\u001b[0m     \u001b[38;5;66;03m# type: (str, GeoSeries) -> GeoSeries/Series\u001b[39;00m\n\u001b[0;32m     65\u001b[0m     a_this \u001b[38;5;241m=\u001b[39m GeometryArray(this\u001b[38;5;241m.\u001b[39mgeometry\u001b[38;5;241m.\u001b[39mvalues)\n\u001b[1;32m---> 66\u001b[0m     data \u001b[38;5;241m=\u001b[39m \u001b[38;5;28mgetattr\u001b[39m(a_this, op)\n\u001b[0;32m     67\u001b[0m     \u001b[38;5;28;01mif\u001b[39;00m \u001b[38;5;28misinstance\u001b[39m(data, GeometryArray):\n\u001b[0;32m     68\u001b[0m         \u001b[38;5;28;01mfrom\u001b[39;00m \u001b[38;5;21;01m.\u001b[39;00m\u001b[38;5;21;01mgeoseries\u001b[39;00m \u001b[38;5;28;01mimport\u001b[39;00m GeoSeries\n",
      "File \u001b[1;32mC:\\ProgramData\\miniconda3\\envs\\dggs_t1\\Lib\\site-packages\\geopandas\\array.py:921\u001b[0m, in \u001b[0;36mGeometryArray.x\u001b[1;34m(self)\u001b[0m\n\u001b[0;32m    919\u001b[0m \u001b[38;5;28;01melse\u001b[39;00m:\n\u001b[0;32m    920\u001b[0m     message \u001b[38;5;241m=\u001b[39m \u001b[38;5;124m\"\u001b[39m\u001b[38;5;124mx attribute access only provided for Point geometries\u001b[39m\u001b[38;5;124m\"\u001b[39m\n\u001b[1;32m--> 921\u001b[0m     \u001b[38;5;28;01mraise\u001b[39;00m \u001b[38;5;167;01mValueError\u001b[39;00m(message)\n",
      "\u001b[1;31mValueError\u001b[0m: x attribute access only provided for Point geometries"
     ]
    }
   ],
   "source": [
    "import os\n",
    "import geopandas as gpd\n",
    "import rasterio\n",
    "from dggrid4py import DGGRIDv7\n",
    "from rasterstats import zonal_stats\n",
    "from shapely.geometry import Point, box\n",
    "import pandas as pd\n",
    "\n",
    "# Path to the directory containing all land use GeoTIFF files\n",
    "landuse_dir = r'C:\\Users\\egert\\dggs_t1-master\\ESA_data'\n",
    "\n",
    "# Automatically collect all .tif files from the directory\n",
    "landuse_rasters = [os.path.join(landuse_dir, f) for f in os.listdir(landuse_dir) if f.endswith('.tif')]\n",
    "\n",
    "# Path to the output directory\n",
    "output_dir = r'C:\\Users\\egert\\dggs_t1-master\\zonal_stats'\n",
    "\n",
    "# DGGRID instance (path to dggrid executable)\n",
    "dggrid_instance = DGGRIDv7(executable=r'C:\\ProgramData\\miniconda3\\envs\\dggs_t1\\Library\\bin\\dggrid.exe', \n",
    "                           working_dir='.', capture_logs=False, silent=False)\n",
    "\n",
    "# Copied these two bounding boxes from the last part, in case I decide to remove it.\n",
    "# Define the bounding box coordinates for Estonia\n",
    "minx, miny, maxx, maxy = 21.8375, 57.5246, 28.1945, 59.6750\n",
    "\n",
    "# Create a shapely geometry using the bounding box coordinates\n",
    "bbox = box(minx, miny, maxx, maxy)\n",
    "\n",
    "# DGGS configurations: ISEA7H and ISEA3H with different resolutions\n",
    "dggs_configurations = [\n",
    "    ('ISEA7H', 5),  # ISEA7H grid at resolution 5\n",
    "    ('ISEA7H', 8),  # ISEA7H grid at resolution 8\n",
    "    ('ISEA3H', 7)   # ISEA3H grid at resolution 7\n",
    "]\n",
    "\n",
    "# Loop over all DGGS configurations and land use rasters\n",
    "for dggs_type, resolution in dggs_configurations:\n",
    "    # Generate DGGRID polygons for Estonia\n",
    "    gdf_dggs = dggrid_instance.grid_cell_polygons_for_extent(dggs_type, resolution, clip_geom=bbox)\n",
    "    \n",
    "    for raster_path in landuse_rasters:\n",
    "        # Read the land use raster data\n",
    "        with rasterio.open(raster_path) as src:\n",
    "            # Perform zonal statistics (mode/majority) for each DGGS polygon\n",
    "            stats = zonal_stats(gdf_dggs, src.read(1), affine=src.transform, stats=['majority'])\n",
    "        \n",
    "        # Add the zonal stats result (majority land use class) to the DGGS GeoDataFrame\n",
    "        gdf_dggs['landuse_majority'] = [stat['majority'] for stat in stats]\n",
    "        \n",
    "        # Extract the year from the raster filename\n",
    "        year = os.path.basename(raster_path).split('_')[1]  # Adjust if filenames have a different structure\n",
    "        output_file = os.path.join(output_dir, f'{dggs_type}_{resolution}_landuse_{year}.shp')\n",
    "        \n",
    "        # Save the DGGS grid with majority land use to a shapefile\n",
    "        gdf_dggs.to_file(output_file)\n",
    "        print(f'Saved {output_file}')\n",
    "        \n",
    "    # Create hexagonal points for querying land use at smaller scale\n",
    "    gdf_points = dggrid_instance.cells_for_geo_points(gdf_dggs, False, dggs_type, resolution + 2)  # Smaller resolution\n",
    "    \n",
    "    # Query land use at each point for each year\n",
    "    for raster_path in landuse_rasters:\n",
    "        with rasterio.open(raster_path) as src:\n",
    "            # For each point, get the land use class at that point\n",
    "            point_landuse = []\n",
    "            for geom in gdf_points.geometry:\n",
    "                row, col = src.index(geom.x, geom.y)\n",
    "                landuse_value = src.read(1)[row, col]\n",
    "                point_landuse.append(landuse_value)\n",
    "            \n",
    "            year = os.path.basename(raster_path).split('_')[1]  # Extract the year\n",
    "            gdf_points[f'landuse_{year}'] = point_landuse\n",
    "        \n",
    "        # Save the point queries to a file\n",
    "        point_output_file = os.path.join(output_dir, f'{dggs_type}_{resolution}_landuse_points_{year}.shp')\n",
    "        gdf_points.to_file(point_output_file)\n",
    "        print(f'Saved point query: {point_output_file}')\n",
    "\n",
    "# Combine the zonal stats and point queries into a single table for analysis\n",
    "combined_data = pd.DataFrame()\n",
    "\n",
    "for dggs_type, resolution in dggs_configurations:\n",
    "    for raster_path in landuse_rasters:\n",
    "        year = os.path.basename(raster_path).split('_')[1]\n",
    "        zonal_file = os.path.join(output_dir, f'{dggs_type}_{resolution}_landuse_{year}.shp')\n",
    "        point_file = os.path.join(output_dir, f'{dggs_type}_{resolution}_landuse_points_{year}.shp')\n",
    "        \n",
    "        # Read both files\n",
    "        gdf_zonal = gpd.read_file(zonal_file)\n",
    "        gdf_point = gpd.read_file(point_file)\n",
    "        \n",
    "        # Combine land use data from polygons and points\n",
    "        combined_df = gdf_zonal[['cell_id', 'landuse_majority']].merge(\n",
    "            gdf_point[['cell_id', f'landuse_{year}']], on='cell_id')\n",
    "        \n",
    "        # Add to the combined data\n",
    "        combined_data = pd.concat([combined_data, combined_df])\n",
    "\n",
    "# Save the final combined data\n",
    "combined_data.to_csv(os.path.join(output_dir, 'combined_landuse_stats.csv'), index=False)\n",
    "print('Saved combined land use statistics.')\n",
    "\n"
   ]
  },
  {
   "cell_type": "code",
   "execution_count": 3,
   "id": "6899bc85-c8c3-461a-9065-0dc893cc933a",
   "metadata": {},
   "outputs": [],
   "source": [
    "\n"
   ]
  },
  {
   "cell_type": "code",
   "execution_count": null,
   "id": "39c8cb8d-ed37-4b75-be10-3a25eb3240a3",
   "metadata": {},
   "outputs": [],
   "source": [
    "\n"
   ]
  },
  {
   "cell_type": "code",
   "execution_count": null,
   "id": "717ed66a-6f1c-4fcd-aea3-d946048f269e",
   "metadata": {},
   "outputs": [],
   "source": []
  },
  {
   "cell_type": "code",
   "execution_count": null,
   "id": "c9cf5bea-fde5-421a-9d65-3a177f29fbea",
   "metadata": {},
   "outputs": [],
   "source": []
  },
  {
   "cell_type": "code",
   "execution_count": null,
   "id": "9bb3be89-84b0-4888-92a6-597eba79554e",
   "metadata": {},
   "outputs": [],
   "source": []
  },
  {
   "cell_type": "code",
   "execution_count": null,
   "id": "4b120f1d-6cd0-4236-93fe-71cd78fc831e",
   "metadata": {},
   "outputs": [],
   "source": [
    "\n"
   ]
  },
  {
   "cell_type": "code",
   "execution_count": null,
   "id": "8df0b7eb-e181-4235-a47d-7fa3cafe1560",
   "metadata": {},
   "outputs": [],
   "source": []
  }
 ],
 "metadata": {
  "kernelspec": {
   "display_name": "dggs_t1",
   "language": "python",
   "name": "dggs_t1"
  },
  "language_info": {
   "codemirror_mode": {
    "name": "ipython",
    "version": 3
   },
   "file_extension": ".py",
   "mimetype": "text/x-python",
   "name": "python",
   "nbconvert_exporter": "python",
   "pygments_lexer": "ipython3",
   "version": "3.11.3"
  }
 },
 "nbformat": 4,
 "nbformat_minor": 5
}
